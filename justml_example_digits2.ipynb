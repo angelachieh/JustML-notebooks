{
 "cells": [
  {
   "cell_type": "markdown",
   "metadata": {},
   "source": [
    "# JustML example: digits classification"
   ]
  },
  {
   "cell_type": "code",
   "execution_count": 6,
   "metadata": {},
   "outputs": [
    {
     "name": "stdout",
     "output_type": "stream",
     "text": [
      "             precision    recall  f1-score   support\n",
      "\n",
      "          0       1.00      1.00      1.00       178\n",
      "          1       1.00      1.00      1.00       182\n",
      "          2       1.00      1.00      1.00       177\n",
      "          3       1.00      1.00      1.00       183\n",
      "          4       1.00      1.00      1.00       181\n",
      "          5       1.00      1.00      1.00       182\n",
      "          6       1.00      1.00      1.00       181\n",
      "          7       1.00      1.00      1.00       179\n",
      "          8       1.00      1.00      1.00       174\n",
      "          9       1.00      1.00      1.00       180\n",
      "\n",
      "avg / total       1.00      1.00      1.00      1797\n",
      "\n"
     ]
    }
   ],
   "source": [
    "import sklearn.datasets\n",
    "import sklearn.metrics\n",
    "from sklearn.svm import SVC\n",
    "\n",
    "X, y = sklearn.datasets.load_digits(return_X_y=True)\n",
    "\n",
    "d = {\"C\": 0.4138778052607317,\n",
    "    \"gamma\": 5.43004469263886,\n",
    "    \"kernel\": \"poly\",\n",
    "    \"max_iter\": -1,\n",
    "    \"shrinking\": True,\n",
    "    \"tol\": 0.024555010060043934,\n",
    "    \"coef0\": 0.7995003430482459,\n",
    "    \"degree\": 5\n",
    "}\n",
    "\n",
    "cl = SVC(**d)\n",
    "cl.fit(X, y)\n",
    "\n",
    "predictions = cl.predict(X)\n",
    "print(sklearn.metrics.classification_report(y, predictions))"
   ]
  },
  {
   "cell_type": "code",
   "execution_count": null,
   "metadata": {},
   "outputs": [],
   "source": []
  }
 ],
 "metadata": {
  "kernelspec": {
   "display_name": "Python 3",
   "language": "python",
   "name": "python3"
  },
  "language_info": {
   "codemirror_mode": {
    "name": "ipython",
    "version": 3
   },
   "file_extension": ".py",
   "mimetype": "text/x-python",
   "name": "python",
   "nbconvert_exporter": "python",
   "pygments_lexer": "ipython3",
   "version": "3.6.3"
  }
 },
 "nbformat": 4,
 "nbformat_minor": 2
}
